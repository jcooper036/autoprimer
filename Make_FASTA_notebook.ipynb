{
 "cells": [
  {
   "cell_type": "markdown",
   "id": "swedish-employee",
   "metadata": {},
   "source": [
    "# Enables running the process to make FASTA files for gRNA outside a script"
   ]
  },
  {
   "cell_type": "markdown",
   "id": "split-update",
   "metadata": {},
   "source": [
    "### import needed modules"
   ]
  },
  {
   "cell_type": "code",
   "execution_count": 1,
   "id": "shared-porcelain",
   "metadata": {},
   "outputs": [],
   "source": [
    "import csv\n",
    "import os\n",
    "import pandas as pd\n",
    "import sys\n",
    "import subprocess\n",
    "\n",
    "import cauldron_sdk as api\n",
    "from build_fastas.get_gene_mrna import get_gene_mrna\n",
    "from build_fastas.make_gene_crRNA_fastas import make_FASTA\n",
    "\n",
    "%load_ext autoreload\n",
    "%autoreload 2"
   ]
  },
  {
   "cell_type": "markdown",
   "id": "written-roulette",
   "metadata": {},
   "source": [
    "### define functions"
   ]
  },
  {
   "cell_type": "code",
   "execution_count": 2,
   "id": "chronic-major",
   "metadata": {},
   "outputs": [],
   "source": [
    "def get_cauldron_guides(guide_list):\n",
    "    \"\"\"\n",
    "    Query Cauldron with a list of guide REC IDs and return a dataframe with\n",
    "    gene, rec_id, target_sequence\n",
    "    Returning information on errors encountered is not great\n",
    "    \"\"\"\n",
    "    GnC = [['gene','rec_id','sequence']]\n",
    "    for guide in guide_list:\n",
    "        try:\n",
    "            X = [i for i in api.guides.find(rec_ids = guide)][0]\n",
    "            GnC.append([X['gene'], X['rec_id'], X['target_sequence']])\n",
    "        except:\n",
    "            print ('Did not find ',guide)\n",
    "    return pd.DataFrame(GnC[1:], columns = GnC[0])\n",
    "\n",
    "def get_file_guides(guide_list, master_list):\n",
    "    '''\n",
    "    untested\n",
    "    Query a master guide df with a list of guides\n",
    "    The master guide df should be in the form of a pandas df with the headers of 'guide','gene','sequence'\n",
    "    but they can be in any order\n",
    "    '''\n",
    "    GnC = [['gene','rec_id','sequence']]\n",
    "    out_df = master_list[master_list['guide'].isin(guide_list)]\n",
    "    return out_df['gene','guide','sequence']"
   ]
  },
  {
   "cell_type": "markdown",
   "id": "verified-growth",
   "metadata": {},
   "source": [
    "### set and check some useful file locations"
   ]
  },
  {
   "cell_type": "code",
   "execution_count": 3,
   "id": "outside-empty",
   "metadata": {},
   "outputs": [],
   "source": [
    "# Set some relative locations\n",
    "get_genes = 'build_fastas/get_gene_mrna.py'\n",
    "make_fasta = 'build_fastas/make_gene_crRNA_fastas.py'\n",
    "temp_dir = 'build_fastas/temp'\n",
    "genes_out = os.path.join(temp_dir,'gene_list.csv')\n",
    "df_out = os.path.join(temp_dir,'temp.csv')\n",
    "collected_genes = os.path.join(temp_dir,'genome_mRNA.fasta')\n",
    "\n",
    "# Check for files and paths\n",
    "if not os.path.isfile(get_genes): print(get_genes,'not found')\n",
    "if not os.path.isfile(make_fasta): print(make_fasta,'not found')    \n",
    "if not os.path.isdir(temp_dir): os.mkdir(temp_dir)"
   ]
  },
  {
   "cell_type": "markdown",
   "id": "standing-carnival",
   "metadata": {},
   "source": [
    "### User input: set the source of the gRNA list"
   ]
  },
  {
   "cell_type": "code",
   "execution_count": 4,
   "id": "contrary-binary",
   "metadata": {},
   "outputs": [],
   "source": [
    "gRNA_file = '/Users/chris.johnson/Documents/scripts/python/CRISPR_genotyping/20201207_platform_exp_1/Platform genotype exp 1 Guides.csv'"
   ]
  },
  {
   "cell_type": "code",
   "execution_count": 5,
   "id": "particular-feelings",
   "metadata": {},
   "outputs": [],
   "source": [
    "working_path = os.path.dirname(gRNA_file)"
   ]
  },
  {
   "cell_type": "code",
   "execution_count": 6,
   "id": "going-offer",
   "metadata": {},
   "outputs": [],
   "source": [
    "guides = []\n",
    "with open(gRNA_file,'r') as infile:\n",
    "    readfile = csv.reader(infile, delimiter = ',')\n",
    "    for row in readfile: guides.append(row)"
   ]
  },
  {
   "cell_type": "code",
   "execution_count": 7,
   "id": "preliminary-madonna",
   "metadata": {},
   "outputs": [
    {
     "data": {
      "text/plain": [
       "[['Guide'],\n",
       " ['REC-GRNA-0028168'],\n",
       " ['REC-GRNA-0028166'],\n",
       " ['REC-GRNA-0028169'],\n",
       " ['REC-GRNA-0028173'],\n",
       " ['REC-GRNA-0027594'],\n",
       " ['REC-GRNA-0027596'],\n",
       " ['REC-GRNA-0027598'],\n",
       " ['REC-GRNA-0027600'],\n",
       " ['REC-GRNA-0027883'],\n",
       " ['REC-GRNA-0027876'],\n",
       " ['REC-GRNA-0027879'],\n",
       " ['REC-GRNA-0027880'],\n",
       " ['REC-GRNA-0010883'],\n",
       " ['REC-GRNA-0010884'],\n",
       " ['REC-GRNA-0010885'],\n",
       " ['REC-GRNA-0027306'],\n",
       " ['REC-GRNA-0018851'],\n",
       " ['REC-GRNA-0018852'],\n",
       " ['REC-GRNA-0018853'],\n",
       " ['REC-GRNA-0018856'],\n",
       " ['REC-GRNA-0027934'],\n",
       " ['REC-GRNA-0027936'],\n",
       " ['REC-GRNA-0027941'],\n",
       " ['REC-GRNA-0027942'],\n",
       " ['REC-GRNA-0027456'],\n",
       " ['REC-GRNA-0027454'],\n",
       " ['REC-GRNA-0027458'],\n",
       " ['REC-GRNA-0027460'],\n",
       " ['REC-GRNA-0027521'],\n",
       " ['REC-GRNA-0027514'],\n",
       " ['REC-GRNA-0027519'],\n",
       " ['REC-GRNA-0027522'],\n",
       " ['REC-GRNA-0000324'],\n",
       " ['REC-GRNA-0000323'],\n",
       " ['REC-GRNA-0028389'],\n",
       " ['REC-GRNA-0028394'],\n",
       " ['REC-GRNA-0025574'],\n",
       " ['REC-GRNA-0025575'],\n",
       " ['REC-GRNA-0025577'],\n",
       " ['REC-GRNA-0025578'],\n",
       " ['REC-GRNA-0028219'],\n",
       " ['REC-GRNA-0028217'],\n",
       " ['REC-GRNA-0028221'],\n",
       " ['REC-GRNA-0085689'],\n",
       " ['REC-GRNA-0028237'],\n",
       " ['REC-GRNA-0028227'],\n",
       " ['REC-GRNA-0028231'],\n",
       " ['REC-GRNA-0028235'],\n",
       " ['REC-GRNA-0011398'],\n",
       " ['REC-GRNA-0007265'],\n",
       " ['REC-GRNA-0007268'],\n",
       " ['REC-GRNA-0011400'],\n",
       " ['REC-GRNA-0028411'],\n",
       " ['REC-GRNA-0028401'],\n",
       " ['REC-GRNA-0028405'],\n",
       " ['REC-GRNA-0028408'],\n",
       " ['REC-GRNA-0027491'],\n",
       " ['REC-GRNA-0027492'],\n",
       " ['REC-GRNA-0027495'],\n",
       " ['REC-GRNA-0027501'],\n",
       " ['REC-GRNA-0011264'],\n",
       " ['REC-GRNA-0000214'],\n",
       " ['REC-GRNA-0011269'],\n",
       " ['REC-GRNA-0022923'],\n",
       " ['REC-GRNA-0007961'],\n",
       " ['REC-GRNA-0000137'],\n",
       " ['REC-GRNA-0009162'],\n",
       " ['REC-GRNA-0011478'],\n",
       " ['REC-GRNA-0008826'],\n",
       " ['REC-GRNA-0008822'],\n",
       " ['REC-GRNA-0008824'],\n",
       " ['REC-GRNA-0008825'],\n",
       " ['REC-GRNA-0007832'],\n",
       " ['REC-GRNA-0007831'],\n",
       " ['REC-GRNA-0008962'],\n",
       " ['REC-GRNA-0011190'],\n",
       " ['REC-GRNA-0007044'],\n",
       " ['REC-GRNA-0007045'],\n",
       " ['REC-GRNA-0007047'],\n",
       " ['REC-GRNA-0007359'],\n",
       " ['REC-GRNA-0007360'],\n",
       " ['REC-GRNA-0007361'],\n",
       " ['REC-GRNA-0007362'],\n",
       " ['REC-GRNA-0007738'],\n",
       " ['REC-GRNA-0008838'],\n",
       " ['REC-GRNA-0008839'],\n",
       " ['REC-GRNA-0008842'],\n",
       " ['REC-GRNA-0009672'],\n",
       " ['REC-GRNA-0000003'],\n",
       " ['REC-GRNA-0000004'],\n",
       " ['REC-GRNA-0000230'],\n",
       " ['REC-GRNA-0006770'],\n",
       " ['REC-GRNA-0009149'],\n",
       " ['REC-GRNA-0007902']]"
      ]
     },
     "execution_count": 7,
     "metadata": {},
     "output_type": "execute_result"
    }
   ],
   "source": [
    "guides"
   ]
  },
  {
   "cell_type": "markdown",
   "id": "chinese-dylan",
   "metadata": {},
   "source": [
    "### Use this if you are able to connect to Cauldron to recover guide info"
   ]
  },
  {
   "cell_type": "code",
   "execution_count": 8,
   "id": "inappropriate-geography",
   "metadata": {},
   "outputs": [],
   "source": [
    "GnC_df = get_cauldron_guides(guides[1:]) # this takes a while"
   ]
  },
  {
   "cell_type": "markdown",
   "id": "miniature-cannon",
   "metadata": {},
   "source": [
    "### Use this if you are using a master file containing guide information"
   ]
  },
  {
   "cell_type": "markdown",
   "id": "nervous-surrey",
   "metadata": {},
   "source": [
    "master_file = ''\n",
    "master_list = pd.read_csv(master_file)"
   ]
  },
  {
   "cell_type": "markdown",
   "id": "honey-accountability",
   "metadata": {},
   "source": [
    "master_list.head()"
   ]
  },
  {
   "cell_type": "markdown",
   "id": "centered-cradle",
   "metadata": {},
   "source": [
    "GnC_df = get_file_guides(guides[1:], master_list)"
   ]
  },
  {
   "cell_type": "markdown",
   "id": "neutral-idaho",
   "metadata": {},
   "source": [
    "### Save the guide information to a file, where it will be used later\n",
    "This is awkward and could be removed by improving the overall pipeline so that subsequent steps can have a dataframe passed to them instead of a file location."
   ]
  },
  {
   "cell_type": "code",
   "execution_count": 9,
   "id": "earned-loading",
   "metadata": {},
   "outputs": [],
   "source": [
    "GnC_df.to_csv(df_out, index = False)"
   ]
  },
  {
   "cell_type": "markdown",
   "id": "collected-lincoln",
   "metadata": {},
   "source": [
    "### Run the scripts that will make the FASTA files"
   ]
  },
  {
   "cell_type": "code",
   "execution_count": 10,
   "id": "ordered-floor",
   "metadata": {},
   "outputs": [
    {
     "name": "stderr",
     "output_type": "stream",
     "text": [
      "build_fastas/gff.py:94: SettingWithCopyWarning: \n",
      "A value is trying to be set on a copy of a slice from a DataFrame.\n",
      "Try using .loc[row_indexer,col_indexer] = value instead\n",
      "\n",
      "See the caveats in the documentation: http://pandas.pydata.org/pandas-docs/stable/indexing.html#indexing-view-versus-copy\n",
      "  self.genes['gene'] = self.genes['attributes'].apply(gene_name_parse)\n",
      "build_fastas/gff.py:95: SettingWithCopyWarning: \n",
      "A value is trying to be set on a copy of a slice from a DataFrame.\n",
      "Try using .loc[row_indexer,col_indexer] = value instead\n",
      "\n",
      "See the caveats in the documentation: http://pandas.pydata.org/pandas-docs/stable/indexing.html#indexing-view-versus-copy\n",
      "  self.genes['geneID'] = self.genes['attributes'].apply(gene_id_parse)\n",
      "build_fastas/gff.py:96: SettingWithCopyWarning: \n",
      "A value is trying to be set on a copy of a slice from a DataFrame.\n",
      "Try using .loc[row_indexer,col_indexer] = value instead\n",
      "\n",
      "See the caveats in the documentation: http://pandas.pydata.org/pandas-docs/stable/indexing.html#indexing-view-versus-copy\n",
      "  self.genes['biotype'] = self.genes['attributes'].apply(biotype_parse)\n"
     ]
    },
    {
     "name": "stdout",
     "output_type": "stream",
     "text": [
      "Loaded GFF\n"
     ]
    }
   ],
   "source": [
    "# This is a function imported from the python script get_gene_mrna.py\n",
    "# it will take a couple minutes and throw some warnings as it executes\n",
    "get_gene_mrna(df_out)"
   ]
  },
  {
   "cell_type": "code",
   "execution_count": 11,
   "id": "stupid-orchestra",
   "metadata": {},
   "outputs": [],
   "source": [
    "# This is a function imported from the python script make_gene_crRNA_fastas.py\n",
    "make_FASTA(collected_genes, df_out, working_path)"
   ]
  },
  {
   "cell_type": "code",
   "execution_count": null,
   "id": "requested-voluntary",
   "metadata": {},
   "outputs": [],
   "source": []
  }
 ],
 "metadata": {
  "kernelspec": {
   "display_name": "Python [conda env:autoprimer]",
   "language": "python",
   "name": "conda-env-autoprimer-py"
  },
  "language_info": {
   "codemirror_mode": {
    "name": "ipython",
    "version": 3
   },
   "file_extension": ".py",
   "mimetype": "text/x-python",
   "name": "python",
   "nbconvert_exporter": "python",
   "pygments_lexer": "ipython3",
   "version": "3.6.12"
  }
 },
 "nbformat": 4,
 "nbformat_minor": 5
}
